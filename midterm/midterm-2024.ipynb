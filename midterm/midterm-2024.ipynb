{
  "cells": [
    {
      "cell_type": "markdown",
      "metadata": {
        "id": "RV05De0Us82T"
      },
      "source": [
        "# HDS5210-2024 Midterm\n",
        "\n",
        "In the midterm, you're going to use all the programming and data management skills you've developed so far to build a risk calculator that pretends to be integrated with a clinical registry.  You'll compute the PRIEST COVID-19 Clinical Severity Score for a series of patients and, based on their risk of an adverse outcome, query a REST web service to find a hospital to transfer them to. The end result of your work will be a list of instructions on where each patient should be discharged given their risk and various characteristics of the patient.\n",
        "\n",
        "Each step in the midterm will build up to form your complete solution.\n",
        "\n",
        "**Make sure you write good docstrings and doctests along the way!!**\n",
        "\n",
        "**The midterm is due at 11:59 PM CST on Monday, October 24th.**\n",
        "\n",
        "---"
      ]
    },
    {
      "cell_type": "markdown",
      "metadata": {
        "id": "ZRcZIJ6ls82U"
      },
      "source": [
        "## Step 1: Calculate PRIEST Clinical Severity Score\n",
        "\n",
        "This scoring algorithm can be found [here on the MDCalc website](https://www.mdcalc.com/priest-covid-19-clinical-severity-score#evidence).  \n",
        "\n",
        "1. You will need to write a function called **priest()** with the following input parameters.  \n",
        " * Sex (Gender assigned at birth)\n",
        " * Age in years\n",
        " * Respiratory rate in breaths per minute\n",
        " * Oxygen saturation as a percent between 0 and 1\n",
        " * Heart rate in beats per minute\n",
        " * Systolic BP in mmHg\n",
        " * Temperature in degrees C\n",
        " * Alertness as a string description\n",
        " * Inspired Oxygen as as string description\n",
        " * Performance Status as a string description\n",
        "2. The function will need to follow the algorithm provided on the MDCalc website to compute a risk percentage that should be returned as a numeric value between 0 and 1.\n",
        "3. Be sure to use docstring documentation and at least three built-in docstring test cases.\n",
        "4. Assume that the input values that are strings could be any combination of upper or lower case. For example: 'male', 'Male', 'MALE', 'MalE' should all be interpretted by your code as male.\n",
        "5. If any of the inputs are invalid (for example a sex value that is not recognizable as male or female) your code should return None.\n",
        "\n",
        "NOTES:\n",
        "1. In the final step there is a table that translates from **PRIEST Score** to **30-day probability of an outcome** but the last two probabilities are shown as ranges (59-88% and >99%).  Our code needs to output a single number, however. For our code, use the following rule:\n",
        " * If PRIEST score is between 17 and 25, the probability you return should be 0.59\n",
        " * If PRIEST score is greater than or equal to 26, the probability you return should be 0.99\n"
      ]
    },
    {
      "cell_type": "code",
      "execution_count": 10,
      "metadata": {
        "id": "F5bvOQWjs82U"
      },
      "outputs": [],
      "source": [
        "def priest(sex, age, respiratory_rate, oxygen_saturation, heart_rate, systolic_bp, temperature, alertness, inspired_oxygen, performance_status):\n",
        "    \"\"\"\n",
        "\n",
        "    >>> priest('male', 40, 24, 0.96, 105, 115, 38.1, 'alert', 'air', 'unrestricted normal activity')\n",
        "    0.03\n",
        "    >>> priest('female', 80, 11, 0.93, 105, 95, 40.8, 'alert', 'air', 'limited activity, can self-care')\n",
        "    0.08\n",
        "    >>> priest('male', 18, 22, 0.95, 105, 115, 36.3, 'Confused or Not Alert', 'air', 'unrestricted normal activity')\n",
        "    0.05\n",
        "    \"\"\"\n",
        "    # Convert strings to lowercase for uniformity\n",
        "    sex = sex.lower()\n",
        "    alertness = alertness.lower()\n",
        "    inspired_oxygen = inspired_oxygen.lower()\n",
        "    performance_status = performance_status.lower()\n",
        "\n",
        "    # Basic validation for input\n",
        "    if sex not in ['male', 'female'] or alertness not in ['alert', 'confused or not alert'] or inspired_oxygen not in ['air', 'supplemental oxygen']:\n",
        "        return None\n",
        "\n",
        "    # Score calculation logic\n",
        "    score = 0\n",
        "    if sex == 'male':\n",
        "        score += 1\n",
        "    if age >= 65:\n",
        "        score += 2\n",
        "    if respiratory_rate > 20:\n",
        "        score += 2\n",
        "    if oxygen_saturation < 0.95:\n",
        "        score += 2\n",
        "    if heart_rate > 110:\n",
        "        score += 1\n",
        "    if systolic_bp < 90:\n",
        "        score += 1\n",
        "    if temperature >= 39.0:\n",
        "        score += 2\n",
        "    if alertness == 'confused or not alert':\n",
        "        score += 2\n",
        "    if inspired_oxygen == 'supplemental oxygen':\n",
        "        score += 2\n",
        "    if 'limited' in performance_status or 'bed/chair' in performance_status:\n",
        "        score += 2\n",
        "\n",
        "    # Translate score to risk percentage\n",
        "    if score >= 26:\n",
        "        return 0.99\n",
        "    elif score >= 17:\n",
        "        return 0.59\n",
        "    else:\n",
        "        return round(score / 100, 2)\n"
      ]
    },
    {
      "cell_type": "code",
      "execution_count": null,
      "metadata": {
        "id": "1gSa90GPs82U"
      },
      "outputs": [],
      "source": []
    },
    {
      "cell_type": "code",
      "execution_count": 11,
      "metadata": {
        "id": "JVMnNbF0s82U",
        "outputId": "121df498-de8e-43c7-9598-5d6869eccaf5",
        "colab": {
          "base_uri": "https://localhost:8080/"
        }
      },
      "outputs": [
        {
          "output_type": "stream",
          "name": "stdout",
          "text": [
            "Finding tests in NoName\n",
            "Trying:\n",
            "    priest('male', 40, 24, 0.96, 105, 115, 38.1, 'alert', 'air', 'unrestricted normal activity')\n",
            "Expecting:\n",
            "    0.03\n",
            "ok\n",
            "Trying:\n",
            "    priest('female', 80, 11, 0.93, 105, 95, 40.8, 'alert', 'air', 'limited activity, can self-care')\n",
            "Expecting:\n",
            "    0.08\n",
            "ok\n",
            "Trying:\n",
            "    priest('male', 18, 22, 0.95, 105, 115, 36.3, 'Confused or Not Alert', 'air', 'unrestricted normal activity')\n",
            "Expecting:\n",
            "    0.05\n",
            "ok\n"
          ]
        }
      ],
      "source": [
        "import doctest\n",
        "doctest.run_docstring_examples(priest, globals(),verbose=True)"
      ]
    },
    {
      "cell_type": "markdown",
      "metadata": {
        "id": "ho6Hxg2ks82V"
      },
      "source": [
        "## Part 2: Find a hospital\n",
        "\n",
        "The next thing we have to do is figure out where to send this particular patient.  The guidelines on where to send a patient are based on their age (pediatric, adult, geriatric), sex, and risk percentage.  Luckily, you don't have to implement these rules. I already have. All you have to do is use a REST web service that I've created for you.\n",
        "\n",
        "You'll want to use Python to make a call to my REST web service similar to the example URL below. The first part of the URL will be the same for everyone and every request that you make. What you will need to modify for each of your requests is the information after the question mark.\n",
        "\n",
        "```\n",
        "https://oumdj6oci2.execute-api.us-east-1.amazonaws.com/prd/?age=40&sex=male&risk_pct=0.1\n",
        "```\n",
        "\n",
        "The example above asks my web service where a 40-year old male with a risk of 10% should go.  What the web service will return back is a JSON string containing the information you need.  That JSON will look like this:\n",
        "\n",
        "```json\n",
        "{\n",
        "  \"age\": \"40\",\n",
        "  \"sex\": \"male\",\n",
        "  \"risk\": \"0.1\",\n",
        "  \"hospital\": \"Southwest Hospital and Medical Center\"\n",
        "}\n",
        "```\n",
        "\n",
        "My function is not smart enough to understand `'MALE'` is the same as `'male'`.  You have to send it exactly `'male'` or `'female'`\n",
        "\n",
        "1. Your job is to write a function called **find_hospital()** that takes age, sex, and risk as parameters.\n",
        "2. Your function should call this REST web service using the `requests` module\n",
        "3. Then your function will need to interpret the JSON it gets and return just the name of the hospital\n",
        "4. If anything fails, return None\n",
        "5. Include a good docstring with at least three test cases.\n"
      ]
    },
    {
      "cell_type": "code",
      "execution_count": 12,
      "metadata": {
        "id": "HlmsagT7s82V"
      },
      "outputs": [],
      "source": [
        "import requests\n",
        "\n",
        "def find_hospital(age, sex, risk_pct):\n",
        "    \"\"\"\n",
        "    Queries the REST web service to find the appropriate hospital for the patient based on age, sex, and risk percentage.\n",
        "\n",
        "    Args:\n",
        "    - age (int): Age of the patient.\n",
        "    - sex (str): Sex of the patient ('male' or 'female').\n",
        "    - risk_pct (float): Risk percentage (between 0 and 1).\n",
        "\n",
        "    Returns:\n",
        "    - str: Hospital name where the patient should be transferred.\n",
        "\n",
        "    Returns None if anything fails.\n",
        "\n",
        "    >>> find_hospital(40, 'male', 0.1) # Simulated expected output\n",
        "    'Southwest Hospital and Medical Center'\n",
        "    >>> find_hospital(16, 'female', 0.3) # Simulated expected output\n",
        "    'Childrens Healthcare of Atlanta at Scottish Rite'\n",
        "    >>> find_hospital(85, 'female', 0.45) # Simulated expected output\n",
        "    'Wesley Woods Geriatric Hospital'\n",
        "    \"\"\"\n",
        "    try:\n",
        "        url = f\"https://oumdj6oci2.execute-api.us-east-1.amazonaws.com/prd/?age={age}&sex={sex.lower()}&risk_pct={risk_pct}\"\n",
        "        response = requests.get(url)\n",
        "        if response.status_code != 200:\n",
        "            return None\n",
        "        data = response.json()\n",
        "        return data['hospital']\n",
        "    except:\n",
        "        return None"
      ]
    },
    {
      "cell_type": "code",
      "execution_count": 13,
      "metadata": {
        "id": "TWTaIX7_s82V",
        "outputId": "44f9fb04-8902-46d4-eaf6-28818e6d4900",
        "colab": {
          "base_uri": "https://localhost:8080/"
        }
      },
      "outputs": [
        {
          "output_type": "stream",
          "name": "stdout",
          "text": [
            "Finding tests in NoName\n",
            "Trying:\n",
            "    find_hospital(40, 'male', 0.1) # Simulated expected output\n",
            "Expecting:\n",
            "    'Southwest Hospital and Medical Center'\n",
            "ok\n",
            "Trying:\n",
            "    find_hospital(16, 'female', 0.3) # Simulated expected output\n",
            "Expecting:\n",
            "    'Childrens Healthcare of Atlanta at Scottish Rite'\n",
            "ok\n",
            "Trying:\n",
            "    find_hospital(85, 'female', 0.45) # Simulated expected output\n",
            "Expecting:\n",
            "    'Wesley Woods Geriatric Hospital'\n",
            "ok\n"
          ]
        }
      ],
      "source": [
        "import doctest\n",
        "doctest.run_docstring_examples(find_hospital, globals(),verbose=True)"
      ]
    },
    {
      "cell_type": "markdown",
      "metadata": {
        "id": "JwxA6vtts82V"
      },
      "source": [
        "## Part 3: Get the address for that hospital from a JSON file\n",
        "\n",
        "Great! Now we have code to tell us which hospital to send someone to... but we don't know where that hospital is. The next function we need to create is one that looks up the address of that hospital.  All of these hospitals are in Atlanta, Georgia.  We're going to use the list from this webpage to lookup the address for that hospital, based on its name.  https://www.officialusa.com/stateguides/health/hospitals/georgia.html\n",
        "\n",
        "Because we skipped the section about Beautiful Soup and working with HTML, I've converted this information into a JSON document for you.  It's available for you here.  Your code should retrieve this file using the `requests` module.\n",
        "\n",
        "`https://drive.google.com/uc?export=download&id=1fIFD-NkcdiMu941N4GjyMDWxiKsFJBw-`\n",
        "\n",
        "1. You need to create a function called **get_address()** that takes hospital name as a parameter and searches the data from this JSON file for the hospital you want to find.\n",
        "2. Your code will have to load the JSON and return the correct hospital based on name.\n",
        "3. If the hospital name isn't found, the function should return None.\n",
        "4. Be sure to use good docstring documentation and includes at least 3 test cases."
      ]
    },
    {
      "cell_type": "code",
      "execution_count": 14,
      "metadata": {
        "id": "TnJKD3Tns82V"
      },
      "outputs": [],
      "source": [
        "import json\n",
        "\n",
        "def get_address(hospital_name):\n",
        "    \"\"\"\n",
        "    Looks up the hospital address from a JSON file based on the hospital name.\n",
        "\n",
        "    Args:\n",
        "    - hospital_name (str): Name of the hospital.\n",
        "\n",
        "    Returns:\n",
        "    - str: Address of the hospital.\n",
        "\n",
        "    Returns None if the hospital is not found.\n",
        "\n",
        "    >>> get_address('Southwest Hospital and Medical Center')\n",
        "    '501 FAIRBURN ROAD SW'\n",
        "    >>> get_address('Childrens Healthcare of Atlanta at Scottish Rite')\n",
        "    '1001 JOHNSON FERRY RD'\n",
        "    >>> get_address('Wesley Woods Geriatric Hospital')\n",
        "    '1821 CLIFTON ROAD, NE'\n",
        "    \"\"\"\n",
        "    try:\n",
        "        url = \"https://drive.google.com/uc?export=download&id=1fIFD-NkcdiMu941N4GjyMDWxiKsFJBw-\"\n",
        "        response = requests.get(url)\n",
        "        hospitals = json.loads(response.text)\n",
        "        for hospital in hospitals:\n",
        "            if hospital['name'].lower() == hospital_name.lower():\n",
        "                return hospital['address']\n",
        "        return None\n",
        "    except:\n",
        "        return None\n"
      ]
    },
    {
      "cell_type": "markdown",
      "metadata": {
        "id": "oEoO7bNAs82V"
      },
      "source": [
        "## Part 4: Run the risk calculator on a population\n",
        "\n",
        "At the link below, there is a file called `people.psv`.  It is a pipe-delimited (`|`) file with columns that match the inputs for the PRIEST calculation above.  Your code should use the `requests` module to retrieve the file from this URL.\n",
        "\n",
        "`https://drive.google.com/uc?export=download&id=1fLxJN9YGUqmqExrilxSS8furwUER5HHh`\n",
        "\n",
        "\n",
        "In addition, the file has a patient identifier in the first column.\n",
        "\n",
        "1. Write a function called **process_people()** that takes the file location above as its only parameter. Your Python program should use your code above to process all of these rows, determine the hospital and address, and return a list whose items are a dictionary like this: `{ patient_number: [sex, age, breath, o2sat, heart, systolic, temp, alertness, inspired, status, hospital, address]}`.  Look at the file in Part 5 for what the output looks like.\n",
        "2. Be sure to use good docstrings, but you don't need any tests in your doc strings.  I've provided those for you withe file in Part 5.\n",
        "\n",
        "\n",
        "**NOTE** that when running your code for all the 100 records in the `people.psv` file, it may take a few minutes to complete.  You're making multiple calls to the internet for each record, so that can take a little while.\n"
      ]
    },
    {
      "cell_type": "code",
      "execution_count": 15,
      "metadata": {
        "id": "57Lf6hz3s82V"
      },
      "outputs": [],
      "source": [
        "def process_people(file_url):\n",
        "    \"\"\"\n",
        "    Processes a pipe-delimited file of patient data, calculates the PRIEST score, finds the hospital, and retrieves the address for each patient.\n",
        "\n",
        "    Args:\n",
        "    - file_url (str): URL to the pipe-delimited file.\n",
        "\n",
        "    Returns:\n",
        "    - list: A list of dictionaries where each item contains patient data with hospital and address details.\n",
        "    \"\"\"\n",
        "    try:\n",
        "        response = requests.get(file_url)\n",
        "        data = response.text.splitlines()\n",
        "        results = []\n",
        "        for line in data[1:]:  # Skip the header row\n",
        "            fields = line.split('|')\n",
        "            patient_number = fields[0]\n",
        "            sex = fields[1]\n",
        "            age = int(fields[2])\n",
        "            breath = int(fields[3])\n",
        "            o2_sat = float(fields[4])\n",
        "            heart = int(fields[5])\n",
        "            systolic = int(fields[6])\n",
        "            temp = float(fields[7])\n",
        "            alertness = fields[8]\n",
        "            inspired = fields[9]\n",
        "            status = fields[10]\n",
        "\n",
        "            # Calculate PRIEST score\n",
        "            risk = priest(sex, age, breath, o2_sat, heart, systolic, temp, alertness, inspired, status)\n",
        "\n",
        "            # Find hospital and address\n",
        "            if risk is not None:\n",
        "                hospital = find_hospital(age, sex, risk)\n",
        "                address = get_address(hospital)\n",
        "                results.append({patient_number: [sex, age, breath, o2_sat, heart, systolic, temp, alertness, inspired, status, hospital, address]})\n",
        "        return results\n",
        "    except:\n",
        "        return []\n"
      ]
    },
    {
      "cell_type": "markdown",
      "metadata": {
        "id": "sFqo266Ds82V"
      },
      "source": [
        "## Part 5: Checking your final results\n",
        "\n",
        "The final step is to check your results.  You should be able to compare your results to the output in `people_results.json` at the link below.  Write some code to check your results.  This does not need to be a function.\n",
        "\n",
        "`https://drive.google.com/uc?export=download&id=1gx1SSC20mO5XL6uYD0mdcM_cL91fcIW5`\n"
      ]
    },
    {
      "cell_type": "code",
      "execution_count": 16,
      "metadata": {
        "id": "pq_o2o5Es82V"
      },
      "outputs": [],
      "source": [
        "def check_results(results_url, calculated_results):\n",
        "    \"\"\"\n",
        "    Checks the calculated results against the provided results file.\n",
        "\n",
        "    Args:\n",
        "    - results_url (str): URL to the results file in JSON format.\n",
        "    - calculated_results (list): List of calculated results from process_people().\n",
        "\n",
        "    Returns:\n",
        "    - bool: True if the results match, False otherwise.\n",
        "    \"\"\"\n",
        "    try:\n",
        "        response = requests.get(results_url)\n",
        "        provided_results = json.loads(response.text)\n",
        "        return provided_results == calculated_results\n",
        "    except:\n",
        "        return False"
      ]
    },
    {
      "cell_type": "code",
      "source": [
        "file_url = \"https://drive.google.com/uc?export=download&id=1fLxJN9YGUqmqExrilxSS8furwUER5HHh\"\n",
        "results_url = \"https://drive.google.com/uc?export=download&id=1gx1SSC20mO5XL6uYD0mdcM_cL91fcIW5\"\n",
        "calculated_results = process_people(file_url)\n",
        "match = check_results(results_url, calculated_results)\n",
        "print(f\"Results match: {match}\")"
      ],
      "metadata": {
        "id": "2EtXGXO0tcmi"
      },
      "execution_count": null,
      "outputs": []
    },
    {
      "cell_type": "markdown",
      "metadata": {
        "id": "lltB0C1Vs82V"
      },
      "source": [
        "---\n",
        "\n",
        "## Check your work above\n",
        "\n",
        "If you didn't get them all correct, take a few minutes to think through those that aren't correct.\n",
        "\n",
        "\n",
        "## Submitting Your Work\n",
        "\n",
        "Submit your work as usual into a folder named `midterm`"
      ]
    },
    {
      "cell_type": "markdown",
      "metadata": {
        "id": "lL023H1xs82V"
      },
      "source": [
        "---"
      ]
    }
  ],
  "metadata": {
    "kernelspec": {
      "display_name": "Python 3",
      "language": "python",
      "name": "python3"
    },
    "language_info": {
      "codemirror_mode": {
        "name": "ipython",
        "version": 3
      },
      "file_extension": ".py",
      "mimetype": "text/x-python",
      "name": "python",
      "nbconvert_exporter": "python",
      "pygments_lexer": "ipython3",
      "version": "3.9.6"
    },
    "colab": {
      "provenance": []
    }
  },
  "nbformat": 4,
  "nbformat_minor": 0
}