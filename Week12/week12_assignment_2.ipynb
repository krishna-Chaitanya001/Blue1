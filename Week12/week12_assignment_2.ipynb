{
  "cells": [
    {
      "cell_type": "markdown",
      "metadata": {
        "id": "PC10jaRBq1b0"
      },
      "source": [
        "# Week 11 Assignment\n",
        "\n",
        "\n",
        "Please do the programming exercise and verify that your code works using the tests, then think about your final project and fill out the questions in the second part.\n",
        "\n",
        "---\n",
        "---"
      ]
    },
    {
      "cell_type": "markdown",
      "metadata": {
        "id": "fMTL9xISq1b0"
      },
      "source": [
        "### 47.1: Filtering and summarizing data\n",
        "\n",
        "For this work, you'll find a data file in `https://hds5210-data.s3.amazonaws.com/complications_all.csv`.\n",
        "\n",
        "Read in the data file and create a variable called `mo_hospitals` that contains a data frame from the `complications_all.csv` file, filtered down to only contain those hospitals from the state of Missouri (MO).\n",
        "\n",
        "Then aggregate that data by hospital into a variable named `mo_summary`.  There are some key fields that we want to summarize:\n",
        "* We want to know the earliest date that each hospital was participating in any program\n",
        "* We want to know the latest date that each hospital stopped participating in any program\n",
        "* We want to know the total number of patients in the denominators of these programs\n",
        "\n",
        "Some things to note:\n",
        "* You will need to convert the `Start Date` and `End Date` to actual datetime fields\n",
        "* You will need to clean up and convert the `Denominator` field to just be numeric - the rule that you should use it to simply remove any records where the `Denominator` is `'Not Available'`\n",
        "\n",
        "\n",
        "The final result of this step should be a new data frame called `mo_summary` that contains one row for each hospital and contains the min start date, max end date, and total denominator.  Use the names `start_date`, `end_date`, and `number` for those columns in `mo_summary`.\n",
        "\n",
        "\n",
        "You do not need to create your code in the form of a function, just make sure your variable names match what I've described above so the tests work."
      ]
    },
    {
      "cell_type": "code",
      "execution_count": 1,
      "metadata": {
        "id": "Rd436tQCq1b0"
      },
      "outputs": [],
      "source": [
        "import pandas as pd\n",
        "# This is just to show you the name to use for the variable you need to create for this step to pass.\n",
        "all_hospitals = pd.read_csv('https://hds5210-data.s3.amazonaws.com/complications_all.csv')\n"
      ]
    },
    {
      "cell_type": "code",
      "execution_count": 2,
      "metadata": {
        "id": "z-X8wTQoq1b1"
      },
      "outputs": [],
      "source": [
        "# Do you work here and in as many cells as you need to create a variable called `mo_summary` that matches the requirements\n",
        "mo_hospitals = all_hospitals[all_hospitals['State'] == 'MO'].copy()\n",
        "mo_hospitals = mo_hospitals[mo_hospitals['Denominator'] != 'Not Available']\n",
        "mo_hospitals['Denominator'] = pd.to_numeric(mo_hospitals['Denominator'])\n",
        "mo_hospitals['Start Date'] = pd.to_datetime(mo_hospitals['Start Date'])\n",
        "mo_hospitals['End Date'] = pd.to_datetime(mo_hospitals['End Date'])\n",
        "mo_summary = mo_hospitals.groupby('Facility Name').agg({\n",
        "    'Start Date': 'min',\n",
        "    'End Date': 'max',\n",
        "    'Denominator': 'sum'\n",
        "}).rename(columns={\n",
        "    'Start Date': 'start_date',\n",
        "    'End Date': 'end_date',\n",
        "    'Denominator': 'number'\n",
        "})"
      ]
    },
    {
      "cell_type": "code",
      "execution_count": 3,
      "metadata": {
        "id": "jsd6LMm5q1b1"
      },
      "outputs": [],
      "source": [
        "assert(mo_summary['number'].sum() == 1766908)\n",
        "assert(mo_summary['start_date'].min() == pd.Timestamp(2015,4,1))\n",
        "assert(mo_summary['end_date'].max() == pd.Timestamp(2018,6,30))\n",
        "assert(mo_summary.shape == (108,3))\n",
        "assert(mo_summary.loc['BARNES JEWISH HOSPITAL'].number == 131313)\n",
        "assert(mo_summary.loc['BOONE HOSPITAL CENTER'].number == 63099)"
      ]
    },
    {
      "cell_type": "markdown",
      "metadata": {
        "id": "L3ieurQlq1b1"
      },
      "source": [
        "---\n",
        "\n",
        "### 47.2 Planning your final project\n",
        "\n",
        "You should be thinking about the things we've been learning and how you can apply them to your final project.  Use the rubric to help guid your thinking and then answer the questions below.  This is meant as a guide to help you think through what you will do."
      ]
    },
    {
      "cell_type": "markdown",
      "metadata": {
        "id": "2wlAmyc-q1b1"
      },
      "source": [
        "#### A) Data Access\n",
        "\n",
        "Your project should include data from at least three distinct types of sources.  For example: AWS S3, Relational Databases, Internet, Web Services, local files.  List what data sources you're planning to use."
      ]
    },
    {
      "cell_type": "markdown",
      "metadata": {
        "id": "YWDnUY2zq1b1"
      },
      "source": [
        "**Double-click to enter your answer**\n",
        "\n",
        "Centers for Disease Control and Prevention. (n.d.). National Health and Nutrition Examination Survey (NHANES) – Vision and Eye Health Surveillance. Data.gov. Retrieved September 10, 2024, from https://catalog.data.gov/dataset/national-health-and-nutrition-examination-survey-nhanes-vision-and-eye-health-surveillance-0d18f\n",
        "\n",
        "Centers for Disease Control and Prevention. (n.d.). National Survey of Children's Health (NSCH) – Vision and Eye Health Surveillance. Data.gov. Retrieved September 10, 2024, from https://catalog.data.gov/dataset/national-survey-of-childrens-health-nsch-vision-and-eye-health-surveillance-0c198\n",
        "\n",
        "Centers for Disease Control and Prevention. (n.d.). National Health Interview Survey (NHIS) – Vision and Eye Health Surveillance. Data.gov. Retrieved September 10, 2024, from https://catalog.data.gov/dataset/national-health-interview-survey-nhis-vision-and-eye-health-surveillance-8bfae\n"
      ]
    },
    {
      "cell_type": "markdown",
      "metadata": {
        "id": "nA6SwPzqq1b1"
      },
      "source": [
        "#### B. Data Formats\n",
        "\n",
        "Your project should include data that comes in different file formats.  For example: HL7, EDI, HTML, CSV, Excel, JSON, XML.  List what data formats you're planning to use."
      ]
    },
    {
      "cell_type": "markdown",
      "metadata": {
        "id": "q1TbKfibq1b1"
      },
      "source": [
        "**Double-click to enter your answer**\n",
        "\n",
        "I am planning to use data formats\n",
        "\n",
        "CSV\n",
        "\n",
        "EXcel\n"
      ]
    },
    {
      "cell_type": "markdown",
      "metadata": {
        "id": "9mrowB9nq1b1"
      },
      "source": [
        "#### C. Objective\n",
        "\n",
        "What purpose would your project serve in a real work setting?  Take a couple of paragraphs to write down why this is an interesting product."
      ]
    },
    {
      "cell_type": "markdown",
      "metadata": {
        "id": "KmHtggA9q1b1"
      },
      "source": [
        "**Double-click to enter your answer**\n",
        "\n",
        "By using survey data from NHANES, NSCH and NHIS for vision and eye health surveillance, this project assumes an important aspect in a real work environment because of the findings and trends it contributes to the improvement of public health. This way, healthcare workers, policy makers, health care institutions and governmental and non-governmental organizations can discover the vision and eye health conditions of different populations and different classes in the society. Such analysis could help public health stakeholder to design/optimize initiatives to address issues resulting in vision impairment, enhance access to eye care services and utilization of resources to target populations.\n",
        "\n",
        "Furthermore, in a practical environment, the kind of project can help decision-makers rely on factual information and alleviate health campaigns, which focus on early detection and routine eye checks. These could be exploited by schools and other ins institutions for the purpose of creating awareness and formulating programs to enhance efficient vision in children hence better health and learning outcomes. Furthermore, private healthcare establishments could capitalize on the insights to sell individual or new solutions that address previously unmet needs in eye care, thus applying this study in enriching public and private initiatives."
      ]
    },
    {
      "cell_type": "markdown",
      "metadata": {
        "id": "WmZlpyraq1b1"
      },
      "source": [
        "\n",
        "\n",
        "---\n",
        "\n",
        "\n",
        "\n",
        "## Submit your work via GitHub as normal\n"
      ]
    }
  ],
  "metadata": {
    "kernelspec": {
      "display_name": "Python 3",
      "language": "python",
      "name": "python3"
    },
    "language_info": {
      "codemirror_mode": {
        "name": "ipython",
        "version": 3
      },
      "file_extension": ".py",
      "mimetype": "text/x-python",
      "name": "python",
      "nbconvert_exporter": "python",
      "pygments_lexer": "ipython3",
      "version": "3.9.16"
    },
    "colab": {
      "provenance": []
    }
  },
  "nbformat": 4,
  "nbformat_minor": 0
}